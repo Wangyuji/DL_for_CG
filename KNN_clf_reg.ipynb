{
 "cells": [
  {
   "cell_type": "code",
   "execution_count": 120,
   "metadata": {},
   "outputs": [],
   "source": [
    "import numpy as np\n",
    "import matplotlib.pyplot as plt\n",
    "import pandas as pd\n",
    "#import matplotlib.pyplot as plt\n",
    "from sklearn.model_selection import train_test_split\n",
    "from sklearn.metrics import accuracy_score, confusion_matrix\n",
    "from sklearn.model_selection import GridSearchCV, KFold\n",
    "from sklearn.neural_network import MLPClassifier\n",
    "from sklearn.neural_network import MLPRegressor\n",
    "from sklearn.neighbors import KNeighborsClassifier\n",
    "from sklearn.neighbors import KNeighborsRegressor\n",
    "from sklearn.metrics import ConfusionMatrixDisplay\n",
    "from sklearn.model_selection import cross_val_score\n",
    "\n",
    "\n",
    "import warnings\n",
    "warnings.simplefilter(action='ignore', category=FutureWarning)\n",
    "import os"
   ]
  },
  {
   "cell_type": "code",
   "execution_count": 162,
   "metadata": {},
   "outputs": [],
   "source": [
    "def process_data(file_path):\n",
    "    np.arr = np.loadtxt(file_path)\n",
    "    X = np.arr[:, :9]\n",
    "    Y = np.arr[:, 9:]\n",
    "    #print(X.shape)\n",
    "    #print(Y.shape)\n",
    "    \n",
    "    x_train,x_test,y_train,y_test = train_test_split(X,Y, test_size = 0.2)\n",
    "    #print (x_train.shape, y_train.shape)\n",
    "    #print (x_test.shape, y_test.shape)\n",
    "    return x_train, x_test, y_train, y_test"
   ]
  },
  {
   "cell_type": "code",
   "execution_count": 164,
   "metadata": {},
   "outputs": [],
   "source": [
    "def _init_KNN_clf():\n",
    "    #intialize paramter grid for grid search\n",
    "    param_grid = [{\n",
    "        'n_neighbors': np.arange(1, 50),\n",
    "        'weights': ['uniform', 'distance']\n",
    "        \n",
    "    }]\n",
    "    \n",
    "    #initialize cross validation generator\n",
    "    kfd = KFold(n_splits = 10, shuffle = True, random_state = 1)\n",
    "    \n",
    "    #initialize knn classifier with default params (n_neighbors=5 by default) \n",
    "    iter_clf = KNeighborsClassifier()\n",
    "    \n",
    "    #run grid search to find best hyperparams for classifier\n",
    "    clf_search = GridSearchCV(iter_clf, param_grid, scoring = 'accuracy', cv=kfd)\n",
    "    \n",
    "    return clf_search"
   ]
  },
  {
   "cell_type": "code",
   "execution_count": 163,
   "metadata": {},
   "outputs": [],
   "source": [
    "def _init_KNN_reg():\n",
    "    #intialize paramter grid for grid search\n",
    "    param_grid = [{\n",
    "        'n_neighbors': np.arange(1,10),\n",
    "        'weights': ['uniform', 'distance']\n",
    "    }]\n",
    "    #initialize cross validation generator\n",
    "    kfd = KFold(n_splits = 10, shuffle = True, random_state = 1)\n",
    "    \n",
    "    #initialize knn regressor with default params (n_neighbors=5 by default)\n",
    "    iter_reg = KNeighborsRegressor()\n",
    "    \n",
    "    #prepare grid search to find best hyperparams for regressor\n",
    "    reg = GridSearchCV(iter_reg, param_grid, cv=kfd)\n",
    "    \n",
    "    return reg"
   ]
  },
  {
   "cell_type": "code",
   "execution_count": 166,
   "metadata": {},
   "outputs": [],
   "source": [
    "def KNN_classifier(x_train, y_train, x_test, y_test, dataset_name):\n",
    "    clf_search = _init_KNN_clf()\n",
    "    \n",
    "    #run grid search on training data\n",
    "    clf_search.fit(x_train, y_train.ravel())\n",
    "    \n",
    "    best_score = clf_search.best_score_\n",
    "    best_params = clf_search.best_params_\n",
    "    clf = clf_search.best_estimator_\n",
    "    y_pred = clf.predict(x_test)\n",
    "    results = pd.DataFrame(clf_search.cv_results_)\n",
    "    \n",
    " \n",
    "    #print(results.columns)\n",
    "    results_test = pd.DataFrame(results[['mean_test_score','param_weights','param_n_neighbors']])\n",
    "    uniform_results = results_test[results_test['param_weights'] == 'uniform']\n",
    "    distance_results = results_test[results_test['param_weights'] == 'distance']\n",
    "    \n",
    "    plt.title(\"KNNTest\" + dataset_name)\n",
    "    line1, = plt.plot(uniform_results['param_n_neighbors'], uniform_results['mean_test_score'], 'b', label='uniform')\n",
    "    line2, = plt.plot(distance_results['param_n_neighbors'], distance_results['mean_test_score'], 'g', label='distance')\n",
    "    #plt.plot(np.arange(1,10), scores[9:], 'go')\n",
    "    plt.xlabel(\"value of k\")\n",
    "    plt.ylabel(\"testing accuracy\")\n",
    "    plt.legend(handles=[line1,line2])\n",
    "    plt.savefig(dataset_name + 'testaccuracy.png')\n",
    "    plt.draw()\n",
    "    \n",
    "    plt.clf()\n",
    "    \n",
    "    \n",
    "#     print (\"The best score is: \")\n",
    "#     print(best_score)\n",
    "    print(\"The best parameters are: \")\n",
    "    print(best_params)\n",
    "\n",
    "    \n",
    "    \n",
    "    test_acc = accuracy_score(y_test, y_pred)\n",
    "    print('Test accuracy:', test_acc)\n",
    "   \n",
    "    \n",
    "    \n",
    "    #generate confusion matrix from testing set predictions, set normalize to true so rows will sum to 1\n",
    "    cm = confusion_matrix(y_test, y_pred, normalize = 'true')\n",
    "    #cm = cm/cm.astype(np.float).sum(axis = 1)\n",
    "    \n",
    "    print(\"Confusion Matrix: \")\n",
    "    print(cm)\n",
    "    ConfusionMatrixDisplay.from_predictions(y_test,y_pred,cmap='BuGn', normalize='true', values_format = '.2f')\n",
    "    plt.savefig(dataset_name + 'confusionmatrixnormalized.png')\n",
    "    ConfusionMatrixDisplay.from_predictions(y_test,y_pred,cmap='BuGn')\n",
    "    plt.savefig(dataset_name + 'confusionmatrix.png')\n",
    "    plt.show()\n",
    "    \n",
    "    "
   ]
  },
  {
   "cell_type": "code",
   "execution_count": 171,
   "metadata": {},
   "outputs": [],
   "source": [
    "def KNN_regressor(x_train, y_train, x_test, y_test):\n",
    "    reg = _init_KNN_reg()\n",
    "    reg.fit(x_train, y_train)\n",
    "    \n",
    "    best_params = reg.best_params_\n",
    "   \n",
    "    \n",
    "    #print (\"The best score is: \")\n",
    "    #print(best_score)\n",
    "    print(\"The best parameters are: \")\n",
    "    print(best_params)\n",
    "    optimalreg = KNeighborsRegressor(n_neighbors = best_params['n_neighbors'], weights = best_params['weights'])\n",
    "   # optimalreg = KNeighborsRegressor(n_neighbors=3, weights='uniform')\n",
    "    optimalreg.fit(x_train,y_train)\n",
    "    \n",
    "    y_pred = optimalreg.predict(x_test) #generate predictions on testing set\n",
    "    y_pred = np.where(y_pred > 0.5, 1, 0) #round values to either 0 or 1\n",
    "    \n",
    "    total_acc = np.zeros(9)\n",
    "   # print(accuracy_score(y_test,y_pred, normalize=False))\n",
    "    #print(accuracy_score(y_test,y_pred, normalize=True))\n",
    "    for i in range(9):\n",
    "        total_acc[i] = accuracy_score(y_test[:,i], y_pred[:,i], normalize=False)\n",
    "    #print(total_acc)\n",
    "    \n",
    "    acc = np.sum(total_acc) / (np.shape(y_test)[0] * 9)\n",
    "    print (\"Accuracy knn: {0}\".format(acc))\n",
    "    \n",
    "    #test_acc = accuracy_score(y_test, y_pred)\n",
    "    #print('Test accuracy:', test_acc)\n",
    "    return y_pred\n",
    "    \n",
    "    #generate confusion matrix from testing set predictions, set normalize to true so rows will sum to 1\n",
    "   # cm = confusion_matrix(y_test, y_pred, normalize = 'true')\n",
    "    #cm = cm/cm.astype(np.float).sum(axis = 1)\n",
    "    \n",
    "   # print(\"Confusion Matrix: \")\n",
    "   # print(cm)"
   ]
  },
  {
   "cell_type": "code",
   "execution_count": 172,
   "metadata": {},
   "outputs": [
    {
     "name": "stdout",
     "output_type": "stream",
     "text": [
      "The best parameters are: \n",
      "{'n_neighbors': 9, 'weights': 'distance'}\n",
      "Accuracy knn: 0.9642342571404356\n"
     ]
    }
   ],
   "source": [
    "file_path_multi = 'tictactoedatasets/tictac_multi.txt'\n",
    "\n",
    "#load tictac_multi dataset\n",
    "x_train, x_test, y_train, y_test = process_data(file_path_multi)\n",
    "\n",
    "y_pred = KNN_regressor(x_train, y_train, x_test, y_test)"
   ]
  },
  {
   "cell_type": "code",
   "execution_count": 173,
   "metadata": {},
   "outputs": [
    {
     "name": "stdout",
     "output_type": "stream",
     "text": [
      "The best parameters are: \n",
      "{'n_neighbors': 1, 'weights': 'uniform'}\n",
      "Test accuracy: 1.0\n",
      "Confusion Matrix: \n",
      "[[1. 0.]\n",
      " [0. 1.]]\n"
     ]
    },
    {
     "data": {
      "text/plain": [
       "<Figure size 432x288 with 0 Axes>"
      ]
     },
     "metadata": {},
     "output_type": "display_data"
    },
    {
     "data": {
      "image/png": "[encoded data removed]",
      "text/plain": [
       "<Figure size 432x288 with 2 Axes>"
      ]
     },
     "metadata": {
      "needs_background": "light"
     },
     "output_type": "display_data"
    },
    {
     "data": {
      "image/png": "[encoded data removed]",
      "text/plain": [
       "<Figure size 432x288 with 2 Axes>"
      ]
     },
     "metadata": {
      "needs_background": "light"
     },
     "output_type": "display_data"
    },
    {
     "name": "stdout",
     "output_type": "stream",
     "text": [
      "The best parameters are: \n",
      "{'n_neighbors': 34, 'weights': 'distance'}\n",
      "Test accuracy: 0.9282990083905416\n",
      "Confusion Matrix: \n",
      "[[0.97297297 0.         0.02702703 0.         0.         0.\n",
      "  0.         0.         0.        ]\n",
      " [0.01704545 0.90909091 0.02272727 0.         0.02840909 0.00568182\n",
      "  0.         0.         0.01704545]\n",
      " [0.02747253 0.         0.93406593 0.00549451 0.02197802 0.\n",
      "  0.         0.         0.01098901]\n",
      " [0.04672897 0.01869159 0.00934579 0.88785047 0.02803738 0.\n",
      "  0.00934579 0.         0.        ]\n",
      " [0.00460829 0.00921659 0.00460829 0.         0.97695853 0.\n",
      "  0.         0.         0.00460829]\n",
      " [0.05479452 0.05479452 0.         0.01369863 0.         0.84931507\n",
      "  0.02739726 0.         0.        ]\n",
      " [0.05882353 0.         0.         0.         0.03361345 0.\n",
      "  0.90756303 0.         0.        ]\n",
      " [0.05769231 0.09615385 0.         0.         0.         0.\n",
      "  0.         0.84615385 0.        ]\n",
      " [0.06741573 0.03370787 0.01123596 0.         0.01123596 0.\n",
      "  0.         0.         0.87640449]]\n"
     ]
    },
    {
     "data": {
      "text/plain": [
       "<Figure size 432x288 with 0 Axes>"
      ]
     },
     "metadata": {},
     "output_type": "display_data"
    },
    {
     "data": {
      "image/png": "[encoded data removed]",
      "text/plain": [
       "<Figure size 432x288 with 2 Axes>"
      ]
     },
     "metadata": {
      "needs_background": "light"
     },
     "output_type": "display_data"
    },
    {
     "data": {
      "image/png": "[encoded data removed]",
      "text/plain": [
       "<Figure size 432x288 with 2 Axes>"
      ]
     },
     "metadata": {
      "needs_background": "light"
     },
     "output_type": "display_data"
    }
   ],
   "source": [
    "file_path_final = 'tictactoedatasets/tictac_final.txt'\n",
    "file_path_multi = 'tictactoedatasets/tictac_multi.txt'\n",
    "file_path_single = 'tictactoedatasets/tictac_single.txt'\n",
    "\n",
    "#load tictac_final dataset\n",
    "x_train, x_test, y_train, y_test = process_data(file_path_final)\n",
    "\n",
    "#evaluate performance of KNN classifier on tictac_final dataset\n",
    "KNN_classifier(x_train, y_train, x_test, y_test, 'tictac_final')\n",
    "\n",
    "#load tictac_single dataset\n",
    "x_train, x_test, y_train, y_test = process_data(file_path_single)\n",
    "\n",
    "#evaluate performance of KNN classifier on tictac_single dataset\n",
    "KNN_classifier(x_train, y_train, x_test, y_test, 'tictac_single')"
   ]
  }
 ],
 "metadata": {
  "kernelspec": {
   "display_name": "Python 3",
   "language": "python",
   "name": "python3"
  },
  "language_info": {
   "codemirror_mode": {
    "name": "ipython",
    "version": 3
   },
   "file_extension": ".py",
   "mimetype": "text/x-python",
   "name": "python",
   "nbconvert_exporter": "python",
   "pygments_lexer": "ipython3",
   "version": "3.7.3"
  }
 },
 "nbformat": 4,
 "nbformat_minor": 2
}
