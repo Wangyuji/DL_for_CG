{
 "cells": [
  {
   "cell_type": "code",
   "execution_count": 3,
   "id": "777baa0d",
   "metadata": {},
   "outputs": [
    {
     "name": "stdout",
     "output_type": "stream",
     "text": [
      "File exists: True\n",
      "File2 exists: True\n",
      "File2 exists: True\n",
      "==================================================\n",
      "Classifier\n",
      "==================================================\n",
      "mlp classfier using FINAL dataset\n",
      "Load data from D:\\UFL\\cap5404\\Part1\\tictactoedatasets\\tictac_final.txt\n",
      "(958, 9)\n",
      "(958, 1)\n",
      "Load complete\n",
      "(191, 9) (191, 1)\n",
      "(767, 9) (767, 1)\n"
     ]
    },
    {
     "name": "stderr",
     "output_type": "stream",
     "text": [
      "D:\\Anaconda3\\lib\\site-packages\\sklearn\\model_selection\\_validation.py:378: FitFailedWarning: \n",
      "20 fits failed out of a total of 40.\n",
      "The score on these train-test partitions for these parameters will be set to nan.\n",
      "If these failures are not expected, you can try to debug them by setting error_score='raise'.\n",
      "\n",
      "Below are more details about the failures:\n",
      "--------------------------------------------------------------------------------\n",
      "20 fits failed with the following error:\n",
      "Traceback (most recent call last):\n",
      "  File \"D:\\Anaconda3\\lib\\site-packages\\sklearn\\model_selection\\_validation.py\", line 686, in _fit_and_score\n",
      "    estimator.fit(X_train, y_train, **fit_params)\n",
      "  File \"D:\\Anaconda3\\lib\\site-packages\\sklearn\\neural_network\\_multilayer_perceptron.py\", line 762, in fit\n",
      "    return self._fit(X, y, incremental=False)\n",
      "  File \"D:\\Anaconda3\\lib\\site-packages\\sklearn\\neural_network\\_multilayer_perceptron.py\", line 385, in _fit\n",
      "    self._validate_hyperparameters()\n",
      "  File \"D:\\Anaconda3\\lib\\site-packages\\sklearn\\neural_network\\_multilayer_perceptron.py\", line 503, in _validate_hyperparameters\n",
      "    raise ValueError(\n",
      "ValueError: The activation 'sigmoid' is not supported. Supported activations are ['identity', 'logistic', 'relu', 'softmax', 'tanh'].\n",
      "\n",
      "  warnings.warn(some_fits_failed_message, FitFailedWarning)\n",
      "D:\\Anaconda3\\lib\\site-packages\\sklearn\\model_selection\\_search.py:953: UserWarning: One or more of the test scores are non-finite: [0.93736842 0.95315789        nan        nan]\n",
      "  warnings.warn(\n",
      "D:\\Anaconda3\\lib\\site-packages\\sklearn\\neural_network\\_multilayer_perceptron.py:1118: DataConversionWarning: A column-vector y was passed when a 1d array was expected. Please change the shape of y to (n_samples, ), for example using ravel().\n",
      "  y = column_or_1d(y, warn=True)\n"
     ]
    },
    {
     "name": "stdout",
     "output_type": "stream",
     "text": [
      "The best socre is: \n",
      "0.953157894736842\n",
      "The best params is: \n",
      "{'activation': 'relu', 'alpha': 0.05, 'hidden_layer_sizes': (150, 100, 50, 10), 'learning_rate': 'constant'}\n",
      "Test accuracy: 0.9830508474576272\n",
      "Test accuracy with normalize flase: \n",
      " 754\n",
      "Confusion Matrix is: \n",
      "[[0.96564885 0.01782178]\n",
      " [0.01526718 0.99207921]]\n"
     ]
    },
    {
     "data": {
      "image/png": "[encoded data removed]",
      "text/plain": [
       "<Figure size 432x288 with 2 Axes>"
      ]
     },
     "metadata": {
      "needs_background": "light"
     },
     "output_type": "display_data"
    },
    {
     "name": "stdout",
     "output_type": "stream",
     "text": [
      "mlp classfier using SINGLE dataset\n",
      "Load data from D:\\UFL\\cap5404\\Part1\\tictactoedatasets\\tictac_single.txt\n",
      "(6551, 9)\n",
      "(6551, 1)\n",
      "Load complete\n",
      "(1310, 9) (1310, 1)\n",
      "(5241, 9) (5241, 1)\n"
     ]
    },
    {
     "name": "stderr",
     "output_type": "stream",
     "text": [
      "D:\\Anaconda3\\lib\\site-packages\\sklearn\\model_selection\\_validation.py:378: FitFailedWarning: \n",
      "20 fits failed out of a total of 40.\n",
      "The score on these train-test partitions for these parameters will be set to nan.\n",
      "If these failures are not expected, you can try to debug them by setting error_score='raise'.\n",
      "\n",
      "Below are more details about the failures:\n",
      "--------------------------------------------------------------------------------\n",
      "20 fits failed with the following error:\n",
      "Traceback (most recent call last):\n",
      "  File \"D:\\Anaconda3\\lib\\site-packages\\sklearn\\model_selection\\_validation.py\", line 686, in _fit_and_score\n",
      "    estimator.fit(X_train, y_train, **fit_params)\n",
      "  File \"D:\\Anaconda3\\lib\\site-packages\\sklearn\\neural_network\\_multilayer_perceptron.py\", line 762, in fit\n",
      "    return self._fit(X, y, incremental=False)\n",
      "  File \"D:\\Anaconda3\\lib\\site-packages\\sklearn\\neural_network\\_multilayer_perceptron.py\", line 385, in _fit\n",
      "    self._validate_hyperparameters()\n",
      "  File \"D:\\Anaconda3\\lib\\site-packages\\sklearn\\neural_network\\_multilayer_perceptron.py\", line 503, in _validate_hyperparameters\n",
      "    raise ValueError(\n",
      "ValueError: The activation 'sigmoid' is not supported. Supported activations are ['identity', 'logistic', 'relu', 'softmax', 'tanh'].\n",
      "\n",
      "  warnings.warn(some_fits_failed_message, FitFailedWarning)\n",
      "D:\\Anaconda3\\lib\\site-packages\\sklearn\\model_selection\\_search.py:953: UserWarning: One or more of the test scores are non-finite: [0.74885496 0.74351145        nan        nan]\n",
      "  warnings.warn(\n",
      "D:\\Anaconda3\\lib\\site-packages\\sklearn\\neural_network\\_multilayer_perceptron.py:1118: DataConversionWarning: A column-vector y was passed when a 1d array was expected. Please change the shape of y to (n_samples, ), for example using ravel().\n",
      "  y = column_or_1d(y, warn=True)\n"
     ]
    },
    {
     "name": "stdout",
     "output_type": "stream",
     "text": [
      "The best socre is: \n",
      "0.748854961832061\n",
      "The best params is: \n",
      "{'activation': 'relu', 'alpha': 0.0001, 'hidden_layer_sizes': (150, 100, 50, 10), 'learning_rate': 'constant'}\n",
      "Test accuracy: 0.752146536920435\n",
      "Test accuracy with normalize flase: \n",
      " 3942\n",
      "Confusion Matrix is: \n",
      "[[0.84318361 0.05731523 0.06718346 0.04156479 0.03869407 0.01384083\n",
      "  0.06053812 0.06796117 0.04189944]\n",
      " [0.01024429 0.77073906 0.05555556 0.02200489 0.05441354 0.03806228\n",
      "  0.01569507 0.01456311 0.05865922]\n",
      " [0.02206462 0.09653092 0.71447028 0.04156479 0.06650544 0.07266436\n",
      "  0.05156951 0.02427184 0.02234637]\n",
      " [0.01733649 0.04675716 0.01550388 0.65525672 0.04111245 0.02422145\n",
      "  0.0470852  0.02912621 0.02234637]\n",
      " [0.04491726 0.03167421 0.0245478  0.02200489 0.84764208 0.01384083\n",
      "  0.02466368 0.         0.01396648]\n",
      " [0.0141844  0.0331825  0.01033592 0.05378973 0.00846433 0.65051903\n",
      "  0.02690583 0.02912621 0.01675978]\n",
      " [0.03703704 0.0361991  0.03875969 0.04889976 0.0241838  0.0449827\n",
      "  0.61434978 0.05825243 0.01675978]\n",
      " [0.00945626 0.01960784 0.         0.05623472 0.00483676 0.0449827\n",
      "  0.02466368 0.57281553 0.03351955]\n",
      " [0.01970055 0.02413273 0.00645995 0.0195599  0.03022975 0.03806228\n",
      "  0.00896861 0.02427184 0.72346369]]\n"
     ]
    },
    {
     "data": {
      "image/png": "[encoded data removed]",
      "text/plain": [
       "<Figure size 432x288 with 2 Axes>"
      ]
     },
     "metadata": {
      "needs_background": "light"
     },
     "output_type": "display_data"
    },
    {
     "name": "stdout",
     "output_type": "stream",
     "text": [
      "mlp classfier using 10% of FINAL dataset\n",
      "Load data from D:\\UFL\\cap5404\\Part1\\tictactoedatasets\\tictac_final.txt\n",
      "(96, 9)\n",
      "(96, 1)\n",
      "Load complete\n",
      "(19, 9) (19, 1)\n",
      "(77, 9) (77, 1)\n"
     ]
    },
    {
     "name": "stderr",
     "output_type": "stream",
     "text": [
      "D:\\Anaconda3\\lib\\site-packages\\sklearn\\model_selection\\_validation.py:378: FitFailedWarning: \n",
      "20 fits failed out of a total of 40.\n",
      "The score on these train-test partitions for these parameters will be set to nan.\n",
      "If these failures are not expected, you can try to debug them by setting error_score='raise'.\n",
      "\n",
      "Below are more details about the failures:\n",
      "--------------------------------------------------------------------------------\n",
      "20 fits failed with the following error:\n",
      "Traceback (most recent call last):\n",
      "  File \"D:\\Anaconda3\\lib\\site-packages\\sklearn\\model_selection\\_validation.py\", line 686, in _fit_and_score\n",
      "    estimator.fit(X_train, y_train, **fit_params)\n",
      "  File \"D:\\Anaconda3\\lib\\site-packages\\sklearn\\neural_network\\_multilayer_perceptron.py\", line 762, in fit\n",
      "    return self._fit(X, y, incremental=False)\n",
      "  File \"D:\\Anaconda3\\lib\\site-packages\\sklearn\\neural_network\\_multilayer_perceptron.py\", line 385, in _fit\n",
      "    self._validate_hyperparameters()\n",
      "  File \"D:\\Anaconda3\\lib\\site-packages\\sklearn\\neural_network\\_multilayer_perceptron.py\", line 503, in _validate_hyperparameters\n",
      "    raise ValueError(\n",
      "ValueError: The activation 'sigmoid' is not supported. Supported activations are ['identity', 'logistic', 'relu', 'softmax', 'tanh'].\n",
      "\n",
      "  warnings.warn(some_fits_failed_message, FitFailedWarning)\n",
      "D:\\Anaconda3\\lib\\site-packages\\sklearn\\model_selection\\_search.py:953: UserWarning: One or more of the test scores are non-finite: [0.7  0.75  nan  nan]\n",
      "  warnings.warn(\n",
      "D:\\Anaconda3\\lib\\site-packages\\sklearn\\neural_network\\_multilayer_perceptron.py:1118: DataConversionWarning: A column-vector y was passed when a 1d array was expected. Please change the shape of y to (n_samples, ), for example using ravel().\n",
      "  y = column_or_1d(y, warn=True)\n"
     ]
    },
    {
     "name": "stdout",
     "output_type": "stream",
     "text": [
      "The best socre is: \n",
      "0.75\n",
      "The best params is: \n",
      "{'activation': 'relu', 'alpha': 0.05, 'hidden_layer_sizes': (150, 100, 50, 10), 'learning_rate': 'constant'}\n",
      "Test accuracy: 0.7792207792207793\n",
      "Test accuracy with normalize flase: \n",
      " 60\n",
      "Confusion Matrix is: \n",
      "[[0.65217391 0.14814815]\n",
      " [0.39130435 0.83333333]]\n"
     ]
    },
    {
     "data": {
      "image/png": "[encoded data removed]",
      "text/plain": [
       "<Figure size 432x288 with 2 Axes>"
      ]
     },
     "metadata": {
      "needs_background": "light"
     },
     "output_type": "display_data"
    },
    {
     "name": "stdout",
     "output_type": "stream",
     "text": [
      "==================================================\n",
      "Regressor\n",
      "==================================================\n",
      "mlp regressor using MULTI dataset\n",
      "Load data from D:\\UFL\\cap5404\\Part1\\tictactoedatasets\\tictac_multi.txt\n",
      "(6551, 9)\n",
      "(6551, 9)\n",
      "Load complete\n",
      "(1310, 9) (1310, 9)\n",
      "(5241, 9) (5241, 9)\n"
     ]
    },
    {
     "name": "stderr",
     "output_type": "stream",
     "text": [
      "D:\\Anaconda3\\lib\\site-packages\\sklearn\\model_selection\\_validation.py:378: FitFailedWarning: \n",
      "20 fits failed out of a total of 40.\n",
      "The score on these train-test partitions for these parameters will be set to nan.\n",
      "If these failures are not expected, you can try to debug them by setting error_score='raise'.\n",
      "\n",
      "Below are more details about the failures:\n",
      "--------------------------------------------------------------------------------\n",
      "20 fits failed with the following error:\n",
      "Traceback (most recent call last):\n",
      "  File \"D:\\Anaconda3\\lib\\site-packages\\sklearn\\model_selection\\_validation.py\", line 686, in _fit_and_score\n",
      "    estimator.fit(X_train, y_train, **fit_params)\n",
      "  File \"D:\\Anaconda3\\lib\\site-packages\\sklearn\\neural_network\\_multilayer_perceptron.py\", line 762, in fit\n",
      "    return self._fit(X, y, incremental=False)\n",
      "  File \"D:\\Anaconda3\\lib\\site-packages\\sklearn\\neural_network\\_multilayer_perceptron.py\", line 385, in _fit\n",
      "    self._validate_hyperparameters()\n",
      "  File \"D:\\Anaconda3\\lib\\site-packages\\sklearn\\neural_network\\_multilayer_perceptron.py\", line 503, in _validate_hyperparameters\n",
      "    raise ValueError(\n",
      "ValueError: The activation 'sigmoid' is not supported. Supported activations are ['identity', 'logistic', 'relu', 'softmax', 'tanh'].\n",
      "\n",
      "  warnings.warn(some_fits_failed_message, FitFailedWarning)\n",
      "D:\\Anaconda3\\lib\\site-packages\\sklearn\\model_selection\\_search.py:953: UserWarning: One or more of the test scores are non-finite: [0.27783659 0.35489409        nan        nan]\n",
      "  warnings.warn(\n"
     ]
    },
    {
     "name": "stdout",
     "output_type": "stream",
     "text": [
      "The best socre is: \n",
      "0.3548940891785104\n",
      "The best params is: \n",
      "{'activation': 'relu', 'alpha': 0.05, 'hidden_layer_sizes': (150, 100, 50, 10), 'learning_rate': 'constant'}\n",
      "Test accuracy: 0.535394008776951\n",
      "Test accuracy with normalize flase: \n",
      " 2806\n",
      "The accuracy calculate via MLP is: 0.9119336852593865\n"
     ]
    }
   ],
   "source": [
    "import io, os,sys,types\n",
    "from MLP_clf_reg import *\n",
    "import numpy as np\n",
    "from sklearn.model_selection import train_test_split\n",
    "\n",
    "def process_data(file_path, tenP):    \n",
    "    print(\"Load data from {0}\".format(file_path))\n",
    "    np_arr = np.loadtxt(file_path)\n",
    "\n",
    "    #tenP = 1, we use 10% size of datasets\n",
    "    if tenP==1: \n",
    "        new_arr = int(np.round(np_arr.shape[0] / 10))\n",
    "        idx = np.random.choice(np_arr.shape[0], size=new_arr, replace=False)\n",
    "        np_arr = np_arr[idx, :]\n",
    "    \n",
    "    X = np_arr[:, :9]\n",
    "    Y = np_arr[:, 9:]\n",
    "    print(X.shape)\n",
    "    print(Y.shape)\n",
    "    print(\"Load complete\")\n",
    "    \n",
    "    x_train,x_test,y_train,y_test = train_test_split(X,Y, test_size = 0.8)\n",
    "    print (x_train.shape, y_train.shape)\n",
    "    print (x_test.shape, y_test.shape)\n",
    "    return x_train, x_test, y_train, y_test\n",
    "\n",
    "if __name__ == '__main__':\n",
    "    \n",
    "    file_path = 'D:\\\\UFL\\\\cap5404\\\\Part1\\\\tictactoedatasets\\\\tictac_final.txt'\n",
    "    print('File exists:', os.path.exists(file_path))\n",
    "    file_path2 = 'D:\\\\UFL\\\\cap5404\\\\Part1\\\\tictactoedatasets\\\\tictac_multi.txt'\n",
    "    print('File2 exists:', os.path.exists(file_path2))\n",
    "    file_path3 = 'D:\\\\UFL\\\\cap5404\\\\Part1\\\\tictactoedatasets\\\\tictac_single.txt'\n",
    "    print('File2 exists:', os.path.exists(file_path3))\n",
    "    \n",
    "    \n",
    "    print(\"=\"*50)\n",
    "    print(\"Classifier\")\n",
    "    print(\"=\"*50)\n",
    "    \n",
    "    print(\"mlp classfier using FINAL dataset\")\n",
    "    x1, x2, y1, y2 = process_data(file_path, 0)\n",
    "    exe_mlp_clf(x1, y1, x2, y2)\n",
    "    \n",
    "    print(\"mlp classfier using SINGLE dataset\")\n",
    "    x1, x2, y1, y2 = process_data(file_path3, 0)\n",
    "    exe_mlp_clf(x1, y1, x2, y2)\n",
    "    \n",
    "    \n",
    "    print(\"mlp classfier using 10% of FINAL dataset\")\n",
    "    x1, x2, y1, y2 = process_data(file_path, 1)\n",
    "    exe_mlp_clf(x1, y1, x2, y2)\n",
    "    \n",
    "    ########################################\n",
    "    \n",
    "    #put your code here\n",
    "    \n",
    "    ##################################\n",
    "    \n",
    "    \n",
    "    \n",
    "    print(\"=\"*50)\n",
    "    print(\"Regressor\")\n",
    "    print(\"=\"*50)\n",
    "    \n",
    "    print(\"mlp regressor using MULTI dataset\")\n",
    "    x1, x2, y1, y2 = process_data(file_path2, 0)\n",
    "    exe_mlp_reg(x1, y1, x2, y2)\n",
    "    \n",
    "    \n",
    "    \n",
    "    ########################################\n",
    "    \n",
    "    #put your code here\n",
    "    \n",
    "    ##################################"
   ]
  },
  {
   "cell_type": "code",
   "execution_count": null,
   "id": "c528dc63",
   "metadata": {},
   "outputs": [],
   "source": []
  }
 ],
 "metadata": {
  "kernelspec": {
   "display_name": "Python 3 (ipykernel)",
   "language": "python",
   "name": "python3"
  },
  "language_info": {
   "codemirror_mode": {
    "name": "ipython",
    "version": 3
   },
   "file_extension": ".py",
   "mimetype": "text/x-python",
   "name": "python",
   "nbconvert_exporter": "python",
   "pygments_lexer": "ipython3",
   "version": "3.9.12"
  }
 },
 "nbformat": 4,
 "nbformat_minor": 5
}
