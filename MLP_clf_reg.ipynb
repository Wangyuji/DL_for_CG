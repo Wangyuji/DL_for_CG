{
 "cells": [
  {
   "cell_type": "code",
   "execution_count": 1,
   "id": "a3d4156f",
   "metadata": {},
   "outputs": [],
   "source": [
    "import numpy as np\n",
    "\n",
    "from sklearn.model_selection import train_test_split\n",
    "from sklearn.metrics import accuracy_score, confusion_matrix\n",
    "from sklearn.metrics import plot_confusion_matrix\n",
    "import matplotlib.pyplot as plt\n",
    "from sklearn.model_selection import GridSearchCV, KFold\n",
    "from sklearn.neural_network import MLPClassifier\n",
    "from sklearn.neural_network import MLPRegressor\n",
    "from sklearn.neighbors import KNeighborsRegressor\n",
    "\n",
    "import warnings\n",
    "warnings.simplefilter(action='ignore', category=FutureWarning)\n",
    "import os"
   ]
  },
  {
   "cell_type": "code",
   "execution_count": 2,
   "id": "5c666c6d",
   "metadata": {},
   "outputs": [
    {
     "name": "stdout",
     "output_type": "stream",
     "text": [
      "File exists: True\n",
      "File2 exists: True\n",
      "File2 exists: True\n",
      "Load data from tictac_final\n",
      "(958, 9)\n",
      "(958, 1)\n",
      "Load final complete\n",
      "Load data from tictac_multi\n",
      "(6551, 9)\n",
      "(6551, 9)\n",
      "Load multi complete\n",
      "Load data from tictac_single\n",
      "(6551, 9)\n",
      "(6551, 1)\n",
      "Load single complete\n"
     ]
    }
   ],
   "source": [
    "\n",
    "file_path = 'D:\\\\UFL\\\\cap5404\\\\Part1\\\\tictactoedatasets\\\\tictac_final.txt'\n",
    "print('File exists:', os.path.exists(file_path))\n",
    "file_path2 = 'D:\\\\UFL\\\\cap5404\\\\Part1\\\\tictactoedatasets\\\\tictac_multi.txt'\n",
    "print('File2 exists:', os.path.exists(file_path2))\n",
    "file_path3 = 'D:\\\\UFL\\\\cap5404\\\\Part1\\\\tictactoedatasets\\\\tictac_single.txt'\n",
    "print('File2 exists:', os.path.exists(file_path3))\n",
    "\n",
    "print(\"Load data from tictac_final\")\n",
    "np.arr = np.loadtxt(file_path)\n",
    "X = np.arr[:, : 9 ]\n",
    "Y = np.arr[:, 9 : ]\n",
    "print(X.shape)\n",
    "print(Y.shape)\n",
    "print(\"Load final complete\")\n",
    "\n",
    "print(\"Load data from tictac_multi\")\n",
    "np.arr2 = np.loadtxt(file_path2)\n",
    "X2 = np.arr2[:, : 9 ]\n",
    "Y2 = np.arr2[:, 9 : ]\n",
    "print(X2.shape)\n",
    "print(Y2.shape)\n",
    "print(\"Load multi complete\")\n",
    "\n",
    "print(\"Load data from tictac_single\")\n",
    "np.arr3 = np.loadtxt(file_path3)\n",
    "X3 = np.arr3[:, : 9 ]\n",
    "Y3 = np.arr3[:, 9 : ]\n",
    "print(X3.shape)\n",
    "print(Y3.shape)\n",
    "print(\"Load single complete\")\n"
   ]
  },
  {
   "cell_type": "code",
   "execution_count": 3,
   "id": "c1121f99",
   "metadata": {},
   "outputs": [
    {
     "name": "stdout",
     "output_type": "stream",
     "text": [
      "dataset_final file:\n",
      "(191, 9) (191, 1)\n",
      "(767, 9) (767, 1)\n",
      "====================\n",
      "dataset_multi file:\n",
      "(1310, 9) (1310, 9)\n",
      "(5241, 9) (5241, 9)\n",
      "====================\n",
      "dataset_single file:\n",
      "(1310, 9) (1310, 1)\n",
      "(5241, 9) (5241, 1)\n"
     ]
    }
   ],
   "source": [
    "print(\"dataset_final file:\")\n",
    "x_train, x_test, y_train, y_test = train_test_split(X, Y, test_size = 0.8)\n",
    "print (x_train.shape, y_train.shape)\n",
    "print (x_test.shape, y_test.shape)\n",
    "print(\"=\"*20)\n",
    "\n",
    "print(\"dataset_multi file:\")\n",
    "x_train2, x_test2, y_train2, y_test2 = train_test_split(X2, Y2, test_size = 0.8)\n",
    "print (x_train2.shape, y_train2.shape)\n",
    "print (x_test2.shape, y_test2.shape)\n",
    "print(\"=\"*20)\n",
    "\n",
    "print(\"dataset_single file:\")\n",
    "x_train3, x_test3, y_train3, y_test3 = train_test_split(X3, Y3, test_size = 0.8)\n",
    "print (x_train3.shape, y_train3.shape)\n",
    "print (x_test3.shape, y_test3.shape)"
   ]
  },
  {
   "cell_type": "code",
   "execution_count": 86,
   "id": "baf38b96",
   "metadata": {},
   "outputs": [],
   "source": [
    "def _init_MLP():\n",
    "    param_setting =[{\n",
    "        'hidden_layer_sizes': [(150,100,50,10)],\n",
    "        'activation':['relu', 'sigmoid'],\n",
    "        'alpha': [0.0001, 0.05],\n",
    "        'learning_rate': ['constant']\n",
    "    }]\n",
    "    \n",
    "    kfd = KFold(n_splits = 20, shuffle=True, random_state = 10)\n",
    "    \n",
    "    iter_clf = MLPClassifier(max_iter = 1000)\n",
    "    #class sklearn.model_selection.GridSearchCV(estimator, param_grid, *, \n",
    "    #scoring=None, n_jobs=None, refit=True, cv=None, verbose=0, pre_dispatch='2*n_jobs', error_score=nan, \n",
    "    #return_train_score=False)[source]\n",
    "    clf = GridSearchCV(iter_clf, param_setting, n_jobs =-1, cv=kfd, scoring=\"accuracy\")\n",
    "    \n",
    "    iter_reg = MLPRegressor(random_state=20, max_iter=1000)\n",
    "    \n",
    "    reg = GridSearchCV(iter_reg, param_setting, cv=kfd, n_jobs=-1)\n",
    "    \n",
    "    return clf, reg"
   ]
  },
  {
   "cell_type": "code",
   "execution_count": 78,
   "id": "e1fcc102",
   "metadata": {},
   "outputs": [],
   "source": [
    "def MLP_classifier(x_train, y_train, x_test, y_test):\n",
    "    clf, reg = _init_MLP()\n",
    "    clf.fit(x_train, y_train)\n",
    "    \n",
    "    best_score = clf.best_score_\n",
    "    best_params = clf.best_params_\n",
    "    best_esti = clf.best_estimator_\n",
    "    y_pred = clf.predict(x_test)\n",
    "    \n",
    "    print(\"The best socre is: \")\n",
    "    print(best_score)\n",
    "    print(\"The best params is: \")\n",
    "    print(best_params)\n",
    "    #print(\"The best estimator is: \")\n",
    "    #print(best_esti)\n",
    "    #print(\"The best prediction for y is: \")\n",
    "    #print(y_pred)\n",
    "    #print(y_test)\n",
    "    \n",
    "    #nomalize default is true here\n",
    "    test_acc = accuracy_score(y_test, y_pred)\n",
    "    print('Test accuracy:', test_acc)\n",
    "    test_acc = accuracy_score(y_test, y_pred, normalize=False)\n",
    "    print('Test accuracy with normalize flase: \\n', test_acc)  \n",
    "\n",
    "    \n",
    "    cm = confusion_matrix(y_test, y_pred)\n",
    "    cm = cm/cm.astype(np.float).sum(axis = 1)\n",
    "    print(\"Confusion Matrix is: \")\n",
    "    print(cm)\n",
    "    \n",
    "    plot_confusion_matrix(clf, x_test, y_pred)  \n",
    "    plt.show()\n",
    "    \n"
   ]
  },
  {
   "cell_type": "code",
   "execution_count": 87,
   "id": "5f486dc2",
   "metadata": {},
   "outputs": [
    {
     "name": "stdout",
     "output_type": "stream",
     "text": [
      "MLP classifier using final dataset\n"
     ]
    },
    {
     "name": "stderr",
     "output_type": "stream",
     "text": [
      "D:\\Anaconda3\\lib\\site-packages\\sklearn\\model_selection\\_validation.py:378: FitFailedWarning: \n",
      "40 fits failed out of a total of 80.\n",
      "The score on these train-test partitions for these parameters will be set to nan.\n",
      "If these failures are not expected, you can try to debug them by setting error_score='raise'.\n",
      "\n",
      "Below are more details about the failures:\n",
      "--------------------------------------------------------------------------------\n",
      "40 fits failed with the following error:\n",
      "Traceback (most recent call last):\n",
      "  File \"D:\\Anaconda3\\lib\\site-packages\\sklearn\\model_selection\\_validation.py\", line 686, in _fit_and_score\n",
      "    estimator.fit(X_train, y_train, **fit_params)\n",
      "  File \"D:\\Anaconda3\\lib\\site-packages\\sklearn\\neural_network\\_multilayer_perceptron.py\", line 762, in fit\n",
      "    return self._fit(X, y, incremental=False)\n",
      "  File \"D:\\Anaconda3\\lib\\site-packages\\sklearn\\neural_network\\_multilayer_perceptron.py\", line 385, in _fit\n",
      "    self._validate_hyperparameters()\n",
      "  File \"D:\\Anaconda3\\lib\\site-packages\\sklearn\\neural_network\\_multilayer_perceptron.py\", line 503, in _validate_hyperparameters\n",
      "    raise ValueError(\n",
      "ValueError: The activation 'sigmoid' is not supported. Supported activations are ['identity', 'logistic', 'relu', 'softmax', 'tanh'].\n",
      "\n",
      "  warnings.warn(some_fits_failed_message, FitFailedWarning)\n",
      "D:\\Anaconda3\\lib\\site-packages\\sklearn\\model_selection\\_search.py:953: UserWarning: One or more of the test scores are non-finite: [0.95277778 0.95222222        nan        nan]\n",
      "  warnings.warn(\n",
      "D:\\Anaconda3\\lib\\site-packages\\sklearn\\neural_network\\_multilayer_perceptron.py:1118: DataConversionWarning: A column-vector y was passed when a 1d array was expected. Please change the shape of y to (n_samples, ), for example using ravel().\n",
      "  y = column_or_1d(y, warn=True)\n"
     ]
    },
    {
     "name": "stdout",
     "output_type": "stream",
     "text": [
      "The best socre is: \n",
      "0.9527777777777778\n",
      "The best params is: \n",
      "{'activation': 'relu', 'alpha': 0.0001, 'hidden_layer_sizes': (150, 100, 50, 10), 'learning_rate': 'constant'}\n",
      "Test accuracy: 0.9739243807040417\n",
      "Test accuracy with normalize flase: \n",
      " 747\n",
      "Confusion Matrix is: \n",
      "[[0.95112782 0.0259481 ]\n",
      " [0.02631579 0.98602794]]\n"
     ]
    },
    {
     "name": "stderr",
     "output_type": "stream",
     "text": [
      "C:\\Users\\14044\\AppData\\Local\\Temp\\ipykernel_31116\\800025283.py:28: DeprecationWarning: `np.float` is a deprecated alias for the builtin `float`. To silence this warning, use `float` by itself. Doing this will not modify any behavior and is safe. If you specifically wanted the numpy scalar type, use `np.float64` here.\n",
      "Deprecated in NumPy 1.20; for more details and guidance: https://numpy.org/devdocs/release/1.20.0-notes.html#deprecations\n",
      "  cm = cm/cm.astype(np.float).sum(axis = 1)\n"
     ]
    },
    {
     "data": {
      "image/png": "[encoded data removed]",
      "text/plain": [
       "<Figure size 432x288 with 2 Axes>"
      ]
     },
     "metadata": {
      "needs_background": "light"
     },
     "output_type": "display_data"
    },
    {
     "name": "stdout",
     "output_type": "stream",
     "text": [
      "====================\n",
      "====================\n",
      "MLP classifier using single dataset\n"
     ]
    },
    {
     "name": "stderr",
     "output_type": "stream",
     "text": [
      "D:\\Anaconda3\\lib\\site-packages\\sklearn\\model_selection\\_validation.py:378: FitFailedWarning: \n",
      "40 fits failed out of a total of 80.\n",
      "The score on these train-test partitions for these parameters will be set to nan.\n",
      "If these failures are not expected, you can try to debug them by setting error_score='raise'.\n",
      "\n",
      "Below are more details about the failures:\n",
      "--------------------------------------------------------------------------------\n",
      "40 fits failed with the following error:\n",
      "Traceback (most recent call last):\n",
      "  File \"D:\\Anaconda3\\lib\\site-packages\\sklearn\\model_selection\\_validation.py\", line 686, in _fit_and_score\n",
      "    estimator.fit(X_train, y_train, **fit_params)\n",
      "  File \"D:\\Anaconda3\\lib\\site-packages\\sklearn\\neural_network\\_multilayer_perceptron.py\", line 762, in fit\n",
      "    return self._fit(X, y, incremental=False)\n",
      "  File \"D:\\Anaconda3\\lib\\site-packages\\sklearn\\neural_network\\_multilayer_perceptron.py\", line 385, in _fit\n",
      "    self._validate_hyperparameters()\n",
      "  File \"D:\\Anaconda3\\lib\\site-packages\\sklearn\\neural_network\\_multilayer_perceptron.py\", line 503, in _validate_hyperparameters\n",
      "    raise ValueError(\n",
      "ValueError: The activation 'sigmoid' is not supported. Supported activations are ['identity', 'logistic', 'relu', 'softmax', 'tanh'].\n",
      "\n",
      "  warnings.warn(some_fits_failed_message, FitFailedWarning)\n",
      "D:\\Anaconda3\\lib\\site-packages\\sklearn\\model_selection\\_search.py:953: UserWarning: One or more of the test scores are non-finite: [0.74655012 0.76941725        nan        nan]\n",
      "  warnings.warn(\n",
      "D:\\Anaconda3\\lib\\site-packages\\sklearn\\neural_network\\_multilayer_perceptron.py:1118: DataConversionWarning: A column-vector y was passed when a 1d array was expected. Please change the shape of y to (n_samples, ), for example using ravel().\n",
      "  y = column_or_1d(y, warn=True)\n"
     ]
    },
    {
     "name": "stdout",
     "output_type": "stream",
     "text": [
      "The best socre is: \n",
      "0.7694172494172494\n",
      "The best params is: \n",
      "{'activation': 'relu', 'alpha': 0.05, 'hidden_layer_sizes': (150, 100, 50, 10), 'learning_rate': 'constant'}\n",
      "Test accuracy: 0.7887807670291929\n",
      "Test accuracy with normalize flase: \n",
      " 4134\n",
      "Confusion Matrix is: \n",
      "[[0.89401294 0.01767305 0.02915082 0.0391198  0.04275534 0.05\n",
      "  0.05517241 0.00970874 0.0109589 ]\n",
      " [0.02912621 0.73932253 0.05830165 0.03667482 0.04275534 0.03928571\n",
      "  0.04367816 0.02427184 0.02465753]\n",
      " [0.0315534  0.03681885 0.77439797 0.05623472 0.04631829 0.03214286\n",
      "  0.02758621 0.04854369 0.05753425]\n",
      " [0.01699029 0.00883652 0.00506971 0.72371638 0.03206651 0.025\n",
      "  0.05287356 0.05825243 0.03561644]\n",
      " [0.03964401 0.03387334 0.01013942 0.01466993 0.84441805 0.05357143\n",
      "  0.02988506 0.01941748 0.03561644]\n",
      " [0.00242718 0.03387334 0.00506971 0.00977995 0.00356295 0.8\n",
      "  0.0183908  0.01456311 0.02191781]\n",
      " [0.02912621 0.02945508 0.01901141 0.05623472 0.00475059 0.02142857\n",
      "  0.71954023 0.02912621 0.03287671]\n",
      " [0.01618123 0.0191458  0.00760456 0.04889976 0.02375297 0.03928571\n",
      "  0.02068966 0.51941748 0.        ]\n",
      " [0.03478964 0.01325479 0.00633714 0.0391198  0.00950119 0.05357143\n",
      "  0.         0.01941748 0.7260274 ]]\n"
     ]
    },
    {
     "name": "stderr",
     "output_type": "stream",
     "text": [
      "C:\\Users\\14044\\AppData\\Local\\Temp\\ipykernel_31116\\800025283.py:28: DeprecationWarning: `np.float` is a deprecated alias for the builtin `float`. To silence this warning, use `float` by itself. Doing this will not modify any behavior and is safe. If you specifically wanted the numpy scalar type, use `np.float64` here.\n",
      "Deprecated in NumPy 1.20; for more details and guidance: https://numpy.org/devdocs/release/1.20.0-notes.html#deprecations\n",
      "  cm = cm/cm.astype(np.float).sum(axis = 1)\n"
     ]
    },
    {
     "data": {
      "image/png": "[encoded data removed]",
      "text/plain": [
       "<Figure size 432x288 with 2 Axes>"
      ]
     },
     "metadata": {
      "needs_background": "light"
     },
     "output_type": "display_data"
    }
   ],
   "source": [
    "print(\"MLP classifier using final dataset\")\n",
    "MLP_classifier(x_train, y_train, x_test, y_test)\n",
    "print(\"=\"*20)\n",
    "print(\"=\"*20)\n",
    "print(\"MLP classifier using single dataset\")\n",
    "MLP_classifier(x_train3, y_train3, x_test3, y_test3)"
   ]
  },
  {
   "cell_type": "code",
   "execution_count": 80,
   "id": "268e0747",
   "metadata": {},
   "outputs": [],
   "source": [
    "import pickle\n",
    "def MLP_regressor(x_train, y_train, x_test, y_test):\n",
    "    clf, reg = _init_MLP()\n",
    "    reg.fit(x_train, y_train)\n",
    "     \n",
    "    best_score = reg.best_score_\n",
    "    best_params = reg.best_params_\n",
    "    best_esti = reg.best_estimator_\n",
    "    y_pred1 = reg.predict(x_test)\n",
    "    \n",
    "    print(\"The best socre is: \")\n",
    "    print(best_score)\n",
    "    print(\"The best params is: \")\n",
    "    print(best_params)\n",
    "    \n",
    "    y_pred = np.where(y_pred1 > 0.5, 1, 0)\n",
    "    #print(y_pred1)\n",
    "    # print(y_test)\n",
    "    \n",
    "    #nomalize default is true here\n",
    "    test_acc = accuracy_score(y_test, y_pred)\n",
    "    print('Test accuracy:', test_acc)\n",
    "    test_acc = accuracy_score(y_test, y_pred, normalize=False)\n",
    "    print('Test accuracy with normalize flase: \\n', test_acc)  \n",
    "\n",
    "    total_acc = np.zeros(9)\n",
    "    acc = 0\n",
    "    for i in range(9):\n",
    "        total_acc[i] = accuracy_score(y_test[:, i],y_pred[:, i], normalize=False)\n",
    "        acc += total_acc[i]\n",
    "    \n",
    "    size = np.shape(y_test)[0] * 9\n",
    "    acc /= size\n",
    "    print(\"The accuracy calculate via MLP is: \"+ str(acc))\n",
    "    \n",
    "    \n",
    "    \n",
    "    \n",
    " \n",
    "    \n",
    "    filename = 'mlp_model.pkl'\n",
    "    pickle.dump(reg, open(filename, 'wb'))\n",
    "    "
   ]
  },
  {
   "cell_type": "code",
   "execution_count": 81,
   "id": "acc1fe71",
   "metadata": {},
   "outputs": [
    {
     "name": "stderr",
     "output_type": "stream",
     "text": [
      "D:\\Anaconda3\\lib\\site-packages\\sklearn\\model_selection\\_validation.py:378: FitFailedWarning: \n",
      "40 fits failed out of a total of 80.\n",
      "The score on these train-test partitions for these parameters will be set to nan.\n",
      "If these failures are not expected, you can try to debug them by setting error_score='raise'.\n",
      "\n",
      "Below are more details about the failures:\n",
      "--------------------------------------------------------------------------------\n",
      "40 fits failed with the following error:\n",
      "Traceback (most recent call last):\n",
      "  File \"D:\\Anaconda3\\lib\\site-packages\\sklearn\\model_selection\\_validation.py\", line 686, in _fit_and_score\n",
      "    estimator.fit(X_train, y_train, **fit_params)\n",
      "  File \"D:\\Anaconda3\\lib\\site-packages\\sklearn\\neural_network\\_multilayer_perceptron.py\", line 762, in fit\n",
      "    return self._fit(X, y, incremental=False)\n",
      "  File \"D:\\Anaconda3\\lib\\site-packages\\sklearn\\neural_network\\_multilayer_perceptron.py\", line 385, in _fit\n",
      "    self._validate_hyperparameters()\n",
      "  File \"D:\\Anaconda3\\lib\\site-packages\\sklearn\\neural_network\\_multilayer_perceptron.py\", line 503, in _validate_hyperparameters\n",
      "    raise ValueError(\n",
      "ValueError: The activation 'sigmoid' is not supported. Supported activations are ['identity', 'logistic', 'relu', 'softmax', 'tanh'].\n",
      "\n",
      "  warnings.warn(some_fits_failed_message, FitFailedWarning)\n",
      "D:\\Anaconda3\\lib\\site-packages\\sklearn\\model_selection\\_search.py:953: UserWarning: One or more of the test scores are non-finite: [0.29880643 0.43295303        nan        nan]\n",
      "  warnings.warn(\n"
     ]
    },
    {
     "name": "stdout",
     "output_type": "stream",
     "text": [
      "The best socre is: \n",
      "0.43295303364725674\n",
      "The best params is: \n",
      "{'activation': 'relu', 'alpha': 0.05, 'hidden_layer_sizes': (150, 100, 50, 10), 'learning_rate': 'constant'}\n",
      "Test accuracy: 0.3594733829421866\n",
      "Test accuracy with normalize flase: \n",
      " 1884\n",
      "The accuracy calculate via MLP is: 0.8774194916152558\n"
     ]
    }
   ],
   "source": [
    "MLP_regressor(x_train2, y_train2, x_test2, y_test2)"
   ]
  },
  {
   "cell_type": "code",
   "execution_count": 51,
   "id": "da378ca8",
   "metadata": {},
   "outputs": [],
   "source": [
    "def regression_using_mlp(np_x_train, np_x_test, np_y_train, np_y_test):\n",
    "        filename = 'model_params.pkl'\n",
    "        print(\" --->>> MLP Regression\")\n",
    "        # folds = KFold(n_splits=10, shuffle=True, random_state=1)\n",
    "        param_grid = [\n",
    "            {\n",
    "                'max_iter': [1000],\n",
    "                'hidden_layer_sizes': [(200, 100, 100, 50), (200, 100, 50)],\n",
    "                'activation': ['tanh', 'relu'],\n",
    "                'solver': ['adam', 'lbfgs', 'sgd'],\n",
    "                'alpha': [0.0001],\n",
    "                'learning_rate': ['constant'],\n",
    "            }\n",
    "        ]\n",
    "\n",
    "        clf = GridSearchCV(MLPRegressor(random_state=1), param_grid, cv=10, n_jobs=-1)\n",
    "        clf.fit(np_x_train, np_y_train)\n",
    "        best_score = clf.best_score_\n",
    "        # print(best_score)\n",
    "        print(\"Best parameters set found on development set:\")\n",
    "        print(clf.best_params_)\n",
    "\n",
    "        best_hyperparams = clf.best_params_\n",
    "        best_solver = best_hyperparams[\"solver\"]\n",
    "        best_learning_rate = best_hyperparams[\"learning_rate\"]\n",
    "        max_iter = best_hyperparams[\"max_iter\"]\n",
    "        best_layer_size = best_hyperparams[\"hidden_layer_sizes\"]\n",
    "        best_alpha = best_hyperparams[\"alpha\"]\n",
    "        best_activation = best_hyperparams[\"activation\"]\n",
    "\n",
    "        final_clf = MLPRegressor(random_state=20,\n",
    "                                 max_iter=max_iter, activation=best_activation,\n",
    "                                 hidden_layer_sizes=best_layer_size,\n",
    "                                 learning_rate=best_learning_rate,\n",
    "                                 solver=best_solver,\n",
    "                                 alpha=best_alpha)\n",
    "\n",
    "        final_clf.fit(np_x_train, np_y_train)\n",
    "        y_pred = final_clf.predict(np_x_test)\n",
    "\n",
    "        y_pred_fixed = np.where(y_pred > 0.5, 1, 0)\n",
    "        total_acc = np.empty(9)\n",
    "        for i in range(9):\n",
    "            total_acc[i] = accuracy_score(np_y_test[:, i],\n",
    "                                        y_pred_fixed[:, i], normalize=False)\n",
    "\n",
    "        acc = np.sum(total_acc) / (np.shape(np_y_test)[0] * 9)\n",
    "        print(\"Accuracy MLP: {0}\".format(acc))\n"
   ]
  },
  {
   "cell_type": "code",
   "execution_count": 52,
   "id": "cef61df7",
   "metadata": {},
   "outputs": [
    {
     "name": "stdout",
     "output_type": "stream",
     "text": [
      " --->>> MLP Regression\n",
      "Best parameters set found on development set:\n",
      "{'activation': 'tanh', 'alpha': 0.0001, 'hidden_layer_sizes': (200, 100, 50), 'learning_rate': 'constant', 'max_iter': 1000, 'solver': 'adam'}\n",
      "Accuracy MLP: 0.9126544976573597\n"
     ]
    }
   ],
   "source": [
    "regression_using_mlp(x_train2, x_test2, y_train2, y_test2)"
   ]
  },
  {
   "cell_type": "code",
   "execution_count": null,
   "id": "8dfead84",
   "metadata": {},
   "outputs": [],
   "source": []
  }
 ],
 "metadata": {
  "kernelspec": {
   "display_name": "Python 3 (ipykernel)",
   "language": "python",
   "name": "python3"
  },
  "language_info": {
   "codemirror_mode": {
    "name": "ipython",
    "version": 3
   },
   "file_extension": ".py",
   "mimetype": "text/x-python",
   "name": "python",
   "nbconvert_exporter": "python",
   "pygments_lexer": "ipython3",
   "version": "3.9.12"
  }
 },
 "nbformat": 4,
 "nbformat_minor": 5
}
