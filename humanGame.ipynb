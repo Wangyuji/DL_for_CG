{
 "cells": [
  {
   "cell_type": "code",
   "execution_count": 2,
   "id": "1fef3b3f",
   "metadata": {},
   "outputs": [],
   "source": [
    "#This is a tictactoe game \n",
    "#People can play this game with AI\n",
    "#The AI is base on the mlp regressor\n",
    "\n",
    "import numpy as np\n",
    "import pickle\n",
    "import itertools\n"
   ]
  },
  {
   "cell_type": "code",
   "execution_count": 3,
   "id": "d160fbef",
   "metadata": {},
   "outputs": [],
   "source": [
    "def startPage():\n",
    "    print(\"Welcome!!!\")\n",
    "    print(\"This is a tictactoe game within 6x7 board\")\n",
    "    print(\"People can play this game with AI\")\n",
    "    print(\"The AI is base on the mlp regressor\")\n",
    "    "
   ]
  },
  {
   "cell_type": "code",
   "execution_count": 4,
   "id": "ff3a6cb1",
   "metadata": {},
   "outputs": [],
   "source": [
    "def generateBoard(row, col):\n",
    "    board = [['_' for i in range(col)] for i in range(row)]\n",
    "    print(np.array(board))\n",
    "    \n",
    "    #board[5][6]=\"8\"\n",
    "    #print(np.array(board))\n",
    "    \n",
    "    #return board"
   ]
  },
  {
   "cell_type": "code",
   "execution_count": 5,
   "id": "bc3cd769",
   "metadata": {},
   "outputs": [
    {
     "name": "stdout",
     "output_type": "stream",
     "text": [
      "[['_' '_' '_']\n",
      " ['_' '_' '_']\n",
      " ['_' '_' '_']]\n"
     ]
    }
   ],
   "source": [
    "generateBoard(3,3)"
   ]
  },
  {
   "cell_type": "code",
   "execution_count": 31,
   "id": "5f022bbb",
   "metadata": {},
   "outputs": [],
   "source": [
    "def setPiece(board, role, row, col):\n",
    "    active = True\n",
    "    if board[row][col] != \"_\":\n",
    "        print(\"This position has piece already, pls input another one\")\n",
    "        return board, True\n",
    "    elif role == \"Human\":\n",
    "        board[row][col] = \"X\"\n",
    "    else:\n",
    "        board[row][col] = \"0\"\n",
    "    \n",
    "    print([0, 1, 2])\n",
    "    for count, row in enumerate(board):\n",
    "        print(count, row)\n",
    "    \n",
    "    return board, False\n",
    "    "
   ]
  },
  {
   "cell_type": "code",
   "execution_count": 32,
   "id": "72715015",
   "metadata": {},
   "outputs": [],
   "source": [
    "def getInput():\n",
    "    active = True\n",
    "    while active:\n",
    "        user_input = input(\"Do you wana go first? y/n: \")\n",
    "        if user_input.upper() == \"Y\":\n",
    "            active = False\n",
    "            return user_input\n",
    "        elif user_input.upper() == \"N\":\n",
    "            active = False\n",
    "            return user_input\n",
    "        else:\n",
    "            print(\"Pls input correctly\")"
   ]
  },
  {
   "cell_type": "code",
   "execution_count": 33,
   "id": "84b2d41a",
   "metadata": {},
   "outputs": [],
   "source": [
    "def checkFull(board):\n",
    "    \n",
    "    if board[2][2] != \"_\":\n",
    "        return False\n",
    "    else:\n",
    "        return True\n",
    "    "
   ]
  },
  {
   "cell_type": "code",
   "execution_count": 41,
   "id": "7c384dc6",
   "metadata": {},
   "outputs": [],
   "source": [
    "def checkWinner(board, current):\n",
    "    \n",
    "    #check horizental\n",
    "    for i,row in enumerate(board):\n",
    "        if board[i][0]==board[i][1]==board[i][2] and board[i][0] != \"_\":\n",
    "            print(current + \" is winner on row \" + str(i))\n",
    "            return True\n",
    "            \n",
    "    #check vertical\n",
    "    for col in range(len(board)):\n",
    "        if board[0][col]==board[1][col]==board[2][col] and board[0][col] != \"_\":\n",
    "            print(current + \" is winner on col \" + str(col))\n",
    "            return True\n",
    "                  \n",
    "    #check diagonal\n",
    "    if (board[0][0]==board[1][1]==board[2][2] and board[0][0]!= \"_\") or (board[0][2]==board[1][1]==board[2][0] and board[0][2]!= \"_\"):\n",
    "            print(current + \" is winner no diagonal \")\n",
    "            return True\n",
    "    \n",
    "    "
   ]
  },
  {
   "cell_type": "code",
   "execution_count": 42,
   "id": "0be564fe",
   "metadata": {},
   "outputs": [],
   "source": [
    "def getHumanOption(board, boardIndex, current):\n",
    "    active = True\n",
    "    while active:\n",
    "        row_input = int(input(\"0-2, which row u wana set\"))\n",
    "        col_input = int(input(\"0-2, which col u wana set\"))\n",
    "        \n",
    "        if row_input < 0 or row_input > 2:\n",
    "            print(\"pls input correct row value\")\n",
    "        elif col_input < 0 or col_input >2:\n",
    "            print(\"pls input correct col value\")\n",
    "        else:\n",
    "            print(\"=\"*20)\n",
    "            boardIndex[3*row_input + col_input] = True\n",
    "            #if set correctly, run = True, then jump out while loop\n",
    "            board, run = setPiece(board, current, row_input, col_input)\n",
    "            active = False\n",
    "    return board, run"
   ]
  },
  {
   "cell_type": "code",
   "execution_count": 43,
   "id": "44b80b61",
   "metadata": {},
   "outputs": [],
   "source": [
    "def getAIOption(board, boardIndex, current, mlp_ttt):\n",
    "    AI_board = np.zeros(9)\n",
    "    option = mlp_ttt.predict(AI_board.reshape(1, -1))\n",
    "    \n",
    "    for i, idx in enumerate(boardIndex):\n",
    "        option[0][i] = -10 if (True == idx) else option[0][i]\n",
    "    tmp = np.amax(option)\n",
    "    option = np.where(option == tmp, 1, 0)\n",
    "\n",
    "    ai_move_idx = np.argwhere(option == 1)\n",
    "    ai_move_idx = ai_move_idx[0][1]\n",
    "\n",
    "    ai_move_row = ai_move_idx // 3\n",
    "    ai_move_col = ai_move_idx % 3\n",
    "            \n",
    "    boardIndex[ai_move_idx] = True\n",
    "    board, run = setPiece(board, current, ai_move_row, ai_move_col)\n",
    "    return board, run"
   ]
  },
  {
   "cell_type": "code",
   "execution_count": 44,
   "id": "4410ca78",
   "metadata": {},
   "outputs": [],
   "source": [
    "def swtichTurn(board, mlp_ttt, nextToken):\n",
    "    boardIndex = [False for i in range(3 * 3)]\n",
    "   \n",
    "    state = True\n",
    "    while state:\n",
    "    #get who is current player\n",
    "        current = next(nextToken)\n",
    "        print(current + \" turn!\")\n",
    "        run = True\n",
    "        \n",
    "        while run:\n",
    "            if current == \"Human\":               \n",
    "                board, run = getHumanOption(board, boardIndex, current)\n",
    "                #print(run)\n",
    "            \n",
    "            else:\n",
    "                board, run = getAIOption(board, boardIndex, current, mlp_ttt)\n",
    "                \n",
    "            \n",
    "            #if all position is full, state = False, jump out while loop\n",
    "            end = checkWinner(board, current)\n",
    "            if end:\n",
    "                print(\"game over\")\n",
    "                state = False\n",
    "                "
   ]
  },
  {
   "cell_type": "code",
   "execution_count": 45,
   "id": "e1b694ea",
   "metadata": {},
   "outputs": [
    {
     "name": "stdout",
     "output_type": "stream",
     "text": [
      "Welcome!!!\n",
      "This is a tictactoe game within 6x7 board\n",
      "People can play this game with AI\n",
      "The AI is base on the mlp regressor\n",
      "Do you wana go first? y/n: y\n",
      "['Human', 'AI']\n",
      "Human go first!\n",
      "[['_' '_' '_']\n",
      " ['_' '_' '_']\n",
      " ['_' '_' '_']]\n",
      "Human turn!\n",
      "0-2, which row u wana set1\n",
      "0-2, which col u wana set1\n",
      "====================\n",
      "[0, 1, 2]\n",
      "0 ['_', '_', '_']\n",
      "1 ['_', 'X', '_']\n",
      "2 ['_', '_', '_']\n",
      "AI turn!\n",
      "[0, 1, 2]\n",
      "0 ['_', '_', '_']\n",
      "1 ['_', 'X', '_']\n",
      "2 ['_', '_', '0']\n",
      "Human turn!\n",
      "0-2, which row u wana set1\n",
      "0-2, which col u wana set0\n",
      "====================\n",
      "[0, 1, 2]\n",
      "0 ['_', '_', '_']\n",
      "1 ['X', 'X', '_']\n",
      "2 ['_', '_', '0']\n",
      "AI turn!\n",
      "[0, 1, 2]\n",
      "0 ['_', '_', '0']\n",
      "1 ['X', 'X', '_']\n",
      "2 ['_', '_', '0']\n",
      "Human turn!\n",
      "0-2, which row u wana set1\n",
      "0-2, which col u wana set2\n",
      "====================\n",
      "[0, 1, 2]\n",
      "0 ['_', '_', '0']\n",
      "1 ['X', 'X', 'X']\n",
      "2 ['_', '_', '0']\n",
      "Human is winner on row 1\n",
      "game over\n"
     ]
    }
   ],
   "source": [
    "def runGame():\n",
    "    startPage()\n",
    "    \n",
    "    user_input = getInput()\n",
    "\n",
    "    role = [\"AI\"]\n",
    "    if user_input.upper() == 'Y':\n",
    "        role.insert(0,\"Human\")\n",
    "    else:\n",
    "        role.append(\"Human\")\n",
    "    print(role)\n",
    "\n",
    "    \n",
    "    print(role[0] + \" go first!\")\n",
    "    nextToken = itertools.cycle(role)\n",
    "    \n",
    "    \n",
    "    #generate first board\n",
    "    row = 3\n",
    "    col = 3\n",
    "    generateBoard(row, col)\n",
    "    board = [[\"_\" for i in range(3)] for i in range(3)]\n",
    "    \n",
    "    # load pickle file\n",
    "    with open('mlp_model.pkl', 'rb') as f:\n",
    "        mlp_ttt = pickle.load(f)\n",
    "   \n",
    "\n",
    "    swtichTurn(board, mlp_ttt, nextToken)\n",
    "    \n",
    "    \n",
    "    \n",
    "    \n",
    "runGame()    "
   ]
  },
  {
   "cell_type": "code",
   "execution_count": null,
   "id": "3ccbc454",
   "metadata": {},
   "outputs": [],
   "source": []
  }
 ],
 "metadata": {
  "kernelspec": {
   "display_name": "Python 3 (ipykernel)",
   "language": "python",
   "name": "python3"
  },
  "language_info": {
   "codemirror_mode": {
    "name": "ipython",
    "version": 3
   },
   "file_extension": ".py",
   "mimetype": "text/x-python",
   "name": "python",
   "nbconvert_exporter": "python",
   "pygments_lexer": "ipython3",
   "version": "3.9.12"
  }
 },
 "nbformat": 4,
 "nbformat_minor": 5
}
